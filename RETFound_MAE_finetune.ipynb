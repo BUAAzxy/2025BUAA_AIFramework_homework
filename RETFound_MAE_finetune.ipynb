{
 "cells": [
  {
   "cell_type": "markdown",
   "id": "ae50b021",
   "metadata": {},
   "source": [
    "# RETFound_MAE_paddle Fine‑tuning Notebook\n",
    "\n",
    "该笔记本将 **RETFound_MAE_paddle** 项目中的 `run.sh` 脚本转换为可交互的 Jupyter 流程，方便逐步执行和修改实验参数。每个数据集对应一个独立的代码单元，内容与 `run.sh` 保持一致。\n"
   ]
  },
  {
   "cell_type": "code",
   "execution_count": 1,
   "id": "c562d39e",
   "metadata": {},
   "outputs": [
    {
     "name": "stdout",
     "output_type": "stream",
     "text": [
      "Environment variables set.\n"
     ]
    }
   ],
   "source": [
    "# 环境变量设置（对应 run.sh 的 export 指令）\n",
    "import os\n",
    "os.environ['GLOG_v'] = '0'\n",
    "os.environ['FLAGS_call_stack_level'] = '0'\n",
    "print('Environment variables set.')\n"
   ]
  },
  {
   "cell_type": "code",
   "execution_count": 2,
   "id": "3ba59cba",
   "metadata": {},
   "outputs": [
    {
     "name": "stdout",
     "output_type": "stream",
     "text": [
      "Current working directory: /home/zhaoxy25/AIframehomework/RETFound_MAE_paddle\n"
     ]
    }
   ],
   "source": [
    "# 切换到项目根目录\n",
    "import os, pathlib\n",
    "project_dir = pathlib.Path().resolve() / 'RETFound_MAE_paddle'\n",
    "if project_dir.exists():\n",
    "    os.chdir(project_dir)\n",
    "    print('Current working directory:', os.getcwd())\n",
    "else:\n",
    "    raise FileNotFoundError('请确认 RETFound_MAE_paddle 目录与本 Notebook 位于同一层级')\n"
   ]
  },
  {
   "cell_type": "markdown",
   "id": "c2b7c80b",
   "metadata": {},
   "source": [
    "## 运行 OCTID 数据集实验"
   ]
  },
  {
   "cell_type": "code",
   "execution_count": 3,
   "id": "4644f34b",
   "metadata": {},
   "outputs": [
    {
     "name": "stdout",
     "output_type": "stream",
     "text": [
      "[07:59:16.285] Instantiating VisionTransformer (for RETFound_mae) with args: {'embed_dim': 1024, 'depth': 24, 'num_heads': 16, 'mlp_ratio': 4.0, 'patch_size': 16, 'img_size': 224, 'in_chans': 3, 'qkv_bias': True, 'drop_rate': 0.0, 'attn_drop_rate': 0.0, 'drop_path_rate': 0.2, 'use_cls_token': True, 'global_pool': True, 'num_classes': 5, 'norm_layer': functools.partial(<class 'paddle.nn.layer.norm.LayerNorm'>, epsilon=1e-06)}\n",
      "W0615 07:59:16.511705 95560 gpu_resources.cc:119] Please NOTE: device: 0, GPU Compute Capability: 8.0, Driver API Version: 12.8, Runtime API Version: 12.6\n",
      "W0615 07:59:16.512284 95560 gpu_resources.cc:164] device: 0, cuDNN Version: 9.5.\n",
      "[07:59:23.658] Position interpolate pass\n",
      "[07:59:23.888] Warning: paddle.vision.transforms.RandAugment not found. Skipping.\n",
      "[07:59:23.945] Dataset 'train': Loaded 316 samples from OCTID/train\n",
      "[07:59:23.954] Dataset 'val': Loaded 82 samples from OCTID/val\n",
      "[07:59:23.967] Dataset 'test': Loaded 174 samples from OCTID/test\n",
      "[07:59:23.974] Start training for 50 epochs\n",
      "[07:59:26.436] Found inf or nan, current scale is: 65536.0, decrease to: 65536.0*0.5\n",
      "[07:59:26.595] Found inf or nan, current scale is: 32768.0, decrease to: 32768.0*0.5\n",
      "[07:59:26.711] Found inf or nan, current scale is: 16384.0, decrease to: 16384.0*0.5\n",
      "[07:59:26.954] Found inf or nan, current scale is: 8192.0, decrease to: 8192.0*0.5\n",
      "[07:59:30.520] Epoch   1/50 │ [train] lr=0.0005 | loss=1.6483 │ [val] acc=0.4146 | f1=0.1996 | roc_auc=0.8127 | hamming=0.2341 | jaccard=0.1339 | precision=0.2034 | recall=0.2667 | avg_prec=0.5473 | kappa=0.1171 | loss=0.0000 │ val_score=0.3765\n",
      "[07:59:37.853] Epoch   2/50 │ [train] lr=0.0005 | loss=1.3903 │ [val] acc=0.5122 | f1=0.2610 | roc_auc=0.8731 | hamming=0.1951 | jaccard=0.2055 | precision=0.2084 | recall=0.3733 | avg_prec=0.6499 | kappa=0.3352 | loss=0.0000 │ val_score=0.4898\n",
      "[07:59:45.242] Epoch   3/50 │ [train] lr=0.0005 | loss=1.1979 │ [val] acc=0.5488 | f1=0.3246 | roc_auc=0.8670 | hamming=0.1805 | jaccard=0.2693 | precision=0.3079 | recall=0.4133 | avg_prec=0.6521 | kappa=0.4004 | loss=0.0000 │ val_score=0.5307\n",
      "[07:59:51.660] Epoch   4/50 │ [train] lr=0.0005 | loss=1.0730 │ [val] acc=0.5976 | f1=0.4327 | roc_auc=0.8714 | hamming=0.1610 | jaccard=0.3284 | precision=0.5240 | recall=0.4667 | avg_prec=0.6631 | kappa=0.4607 | loss=0.0000 │ val_score=0.5883\n",
      "[08:00:02.224] Epoch   5/50 │ [train] lr=0.0005 | loss=0.9714 │ [val] acc=0.6220 | f1=0.4426 | roc_auc=0.9002 | hamming=0.1512 | jaccard=0.3550 | precision=0.5545 | recall=0.5050 | avg_prec=0.7312 | kappa=0.4997 | loss=0.0000 │ val_score=0.6142\n",
      "[08:00:09.757] Epoch   6/50 │ [train] lr=0.0005 | loss=0.8770 │ [val] acc=0.6341 | f1=0.4254 | roc_auc=0.9098 | hamming=0.1463 | jaccard=0.3589 | precision=0.3801 | recall=0.5067 | avg_prec=0.7376 | kappa=0.5165 | loss=0.0000 │ val_score=0.6172\n",
      "[08:00:16.746] Epoch   7/50 │ [train] lr=0.0005 | loss=0.9321 │ [val] acc=0.6463 | f1=0.4553 | roc_auc=0.9149 | hamming=0.1415 | jaccard=0.3830 | precision=0.4551 | recall=0.5200 | avg_prec=0.7228 | kappa=0.5326 | loss=0.0000 │ val_score=0.6343\n",
      "[08:00:23.663] Epoch   8/50 │ [train] lr=0.0005 | loss=0.9080 │ [val] acc=0.6707 | f1=0.4929 | roc_auc=0.9217 | hamming=0.1317 | jaccard=0.4110 | precision=0.5074 | recall=0.5583 | avg_prec=0.7238 | kappa=0.5661 | loss=0.0000 │ val_score=0.6602\n",
      "[08:00:30.504] Epoch   9/50 │ [train] lr=0.0005 | loss=0.8392 │ [val] acc=0.6951 | f1=0.5366 | roc_auc=0.9281 | hamming=0.1220 | jaccard=0.4359 | precision=0.5343 | recall=0.5733 | avg_prec=0.7658 | kappa=0.5976 | loss=0.0000 │ val_score=0.6874\n",
      "[08:00:38.019] Epoch  10/50 │ [train] lr=0.0005 | loss=0.7838 │ [val] acc=0.6707 | f1=0.5066 | roc_auc=0.9408 | hamming=0.1317 | jaccard=0.4073 | precision=0.5943 | recall=0.5467 | avg_prec=0.7807 | kappa=0.5649 | loss=0.0000 │ val_score=0.6708\n",
      "[08:00:42.892] Epoch  11/50 │ [train] lr=0.0005 | loss=0.8318 │ [val] acc=0.6707 | f1=0.5394 | roc_auc=0.9360 | hamming=0.1317 | jaccard=0.4402 | precision=0.4930 | recall=0.6050 | avg_prec=0.7834 | kappa=0.5708 | loss=0.0000 │ val_score=0.6821\n",
      "[08:00:47.765] Epoch  12/50 │ [train] lr=0.0005 | loss=0.7795 │ [val] acc=0.7195 | f1=0.6277 | roc_auc=0.9430 | hamming=0.1122 | jaccard=0.4951 | precision=0.7742 | recall=0.6350 | avg_prec=0.8077 | kappa=0.6314 | loss=0.0000 │ val_score=0.7340\n",
      "[08:00:55.084] Epoch  13/50 │ [train] lr=0.0005 | loss=0.7219 │ [val] acc=0.6829 | f1=0.5185 | roc_auc=0.9432 | hamming=0.1268 | jaccard=0.4199 | precision=0.5790 | recall=0.5600 | avg_prec=0.7944 | kappa=0.5816 | loss=0.0000 │ val_score=0.6811\n",
      "[08:00:59.953] Epoch  14/50 │ [train] lr=0.0005 | loss=0.7052 │ [val] acc=0.7683 | f1=0.6598 | roc_auc=0.9668 | hamming=0.0927 | jaccard=0.5454 | precision=0.7819 | recall=0.7000 | avg_prec=0.8543 | kappa=0.6963 | loss=0.0000 │ val_score=0.7743\n",
      "[08:01:06.817] Epoch  15/50 │ [train] lr=0.0005 | loss=0.6886 │ [val] acc=0.8049 | f1=0.7172 | roc_auc=0.9811 | hamming=0.0780 | jaccard=0.6045 | precision=0.8255 | recall=0.7167 | avg_prec=0.9102 | kappa=0.7428 | loss=0.0000 │ val_score=0.8137\n",
      "[08:01:13.961] Epoch  16/50 │ [train] lr=0.0005 | loss=0.6338 │ [val] acc=0.8659 | f1=0.8162 | roc_auc=0.9815 | hamming=0.0537 | jaccard=0.7097 | precision=0.8707 | recall=0.8067 | avg_prec=0.9185 | kappa=0.8239 | loss=0.0000 │ val_score=0.8739\n",
      "[08:01:20.867] Epoch  17/50 │ [train] lr=0.0005 | loss=0.6119 │ [val] acc=0.8659 | f1=0.8036 | roc_auc=0.9816 | hamming=0.0537 | jaccard=0.6963 | precision=0.8889 | recall=0.7950 | avg_prec=0.9198 | kappa=0.8234 | loss=0.0000 │ val_score=0.8695\n",
      "[08:01:25.948] Epoch  18/50 │ [train] lr=0.0005 | loss=0.6825 │ [val] acc=0.8171 | f1=0.7606 | roc_auc=0.9792 | hamming=0.0732 | jaccard=0.6405 | precision=0.8618 | recall=0.7650 | avg_prec=0.9137 | kappa=0.7599 | loss=0.0000 │ val_score=0.8333\n",
      "[08:01:30.921] Epoch  19/50 │ [train] lr=0.0005 | loss=0.6931 │ [val] acc=0.8415 | f1=0.7898 | roc_auc=0.9847 | hamming=0.0634 | jaccard=0.6733 | precision=0.8306 | recall=0.7917 | avg_prec=0.9332 | kappa=0.7922 | loss=0.0000 │ val_score=0.8556\n",
      "[08:01:35.968] Epoch  20/50 │ [train] lr=0.0005 | loss=0.6319 │ [val] acc=0.8537 | f1=0.8082 | roc_auc=0.9849 | hamming=0.0585 | jaccard=0.6930 | precision=0.8329 | recall=0.8050 | avg_prec=0.9291 | kappa=0.8084 | loss=0.0000 │ val_score=0.8672\n",
      "[08:01:40.908] Epoch  21/50 │ [train] lr=0.0005 | loss=0.6177 │ [val] acc=0.8415 | f1=0.7903 | roc_auc=0.9841 | hamming=0.0634 | jaccard=0.6759 | precision=0.7988 | recall=0.8033 | avg_prec=0.9180 | kappa=0.7930 | loss=0.0000 │ val_score=0.8558\n",
      "[08:01:45.785] Epoch  22/50 │ [train] lr=0.0005 | loss=0.5783 │ [val] acc=0.9024 | f1=0.8416 | roc_auc=0.9816 | hamming=0.0390 | jaccard=0.7564 | precision=0.9111 | recall=0.8350 | avg_prec=0.9153 | kappa=0.8716 | loss=0.0000 │ val_score=0.8983\n",
      "[08:01:52.703] Epoch  23/50 │ [train] lr=0.0005 | loss=0.6239 │ [val] acc=0.9146 | f1=0.8711 | roc_auc=0.9818 | hamming=0.0341 | jaccard=0.7896 | precision=0.9203 | recall=0.8600 | avg_prec=0.9138 | kappa=0.8878 | loss=0.0000 │ val_score=0.9136\n",
      "[08:01:59.577] Epoch  24/50 │ [train] lr=0.0005 | loss=0.5772 │ [val] acc=0.9024 | f1=0.8584 | roc_auc=0.9845 | hamming=0.0390 | jaccard=0.7681 | precision=0.9111 | recall=0.8467 | avg_prec=0.9390 | kappa=0.8718 | loss=0.0000 │ val_score=0.9049\n",
      "[08:02:04.479] Epoch  25/50 │ [train] lr=0.0005 | loss=0.5843 │ [val] acc=0.8780 | f1=0.8380 | roc_auc=0.9838 | hamming=0.0488 | jaccard=0.7368 | precision=0.8448 | recall=0.8433 | avg_prec=0.9417 | kappa=0.8410 | loss=0.0000 │ val_score=0.8876\n",
      "[08:02:09.407] Epoch  26/50 │ [train] lr=0.0005 | loss=0.5671 │ [val] acc=0.9024 | f1=0.8746 | roc_auc=0.9837 | hamming=0.0390 | jaccard=0.7847 | precision=0.8938 | recall=0.8700 | avg_prec=0.9424 | kappa=0.8723 | loss=0.0000 │ val_score=0.9102\n",
      "[08:02:14.317] Epoch  27/50 │ [train] lr=0.0005 | loss=0.4748 │ [val] acc=0.8902 | f1=0.8447 | roc_auc=0.9838 | hamming=0.0439 | jaccard=0.7483 | precision=0.8940 | recall=0.8333 | avg_prec=0.9431 | kappa=0.8557 | loss=0.0000 │ val_score=0.8948\n",
      "[08:02:19.121] Epoch  28/50 │ [train] lr=0.0005 | loss=0.5002 │ [val] acc=0.8902 | f1=0.8676 | roc_auc=0.9849 | hamming=0.0439 | jaccard=0.7760 | precision=0.8692 | recall=0.8683 | avg_prec=0.9426 | kappa=0.8565 | loss=0.0000 │ val_score=0.9030\n",
      "[08:02:23.936] Epoch  29/50 │ [train] lr=0.0005 | loss=0.5523 │ [val] acc=0.8659 | f1=0.8292 | roc_auc=0.9848 | hamming=0.0537 | jaccard=0.7221 | precision=0.8609 | recall=0.8183 | avg_prec=0.9339 | kappa=0.8239 | loss=0.0000 │ val_score=0.8793\n",
      "[08:02:28.794] Epoch  30/50 │ [train] lr=0.0005 | loss=0.4688 │ [val] acc=0.9024 | f1=0.8707 | roc_auc=0.9856 | hamming=0.0390 | jaccard=0.7799 | precision=0.9034 | recall=0.8583 | avg_prec=0.9357 | kappa=0.8720 | loss=0.0000 │ val_score=0.9094\n",
      "[08:02:33.756] Epoch  31/50 │ [train] lr=0.0005 | loss=0.5607 │ [val] acc=0.8537 | f1=0.8113 | roc_auc=0.9834 | hamming=0.0585 | jaccard=0.7058 | precision=0.8500 | recall=0.8167 | avg_prec=0.9255 | kappa=0.8087 | loss=0.0000 │ val_score=0.8678\n",
      "[08:02:38.590] Epoch  32/50 │ [train] lr=0.0005 | loss=0.5049 │ [val] acc=0.9024 | f1=0.8700 | roc_auc=0.9844 | hamming=0.0390 | jaccard=0.7805 | precision=0.8707 | recall=0.8700 | avg_prec=0.9314 | kappa=0.8725 | loss=0.0000 │ val_score=0.9089\n",
      "[08:02:43.488] Epoch  33/50 │ [train] lr=0.0005 | loss=0.4823 │ [val] acc=0.8780 | f1=0.8267 | roc_auc=0.9800 | hamming=0.0488 | jaccard=0.7229 | precision=0.8629 | recall=0.8200 | avg_prec=0.9115 | kappa=0.8399 | loss=0.0000 │ val_score=0.8822\n",
      "[08:02:48.439] Epoch  34/50 │ [train] lr=0.0005 | loss=0.5427 │ [val] acc=0.9024 | f1=0.8706 | roc_auc=0.9847 | hamming=0.0390 | jaccard=0.7817 | precision=0.8840 | recall=0.8700 | avg_prec=0.9284 | kappa=0.8725 | loss=0.0000 │ val_score=0.9093\n",
      "[08:02:53.390] Epoch  35/50 │ [train] lr=0.0005 | loss=0.5416 │ [val] acc=0.8537 | f1=0.7853 | roc_auc=0.9835 | hamming=0.0585 | jaccard=0.6746 | precision=0.8389 | recall=0.7817 | avg_prec=0.9219 | kappa=0.8077 | loss=0.0000 │ val_score=0.8588\n",
      "[08:02:58.383] Epoch  36/50 │ [train] lr=0.0005 | loss=0.4494 │ [val] acc=0.8780 | f1=0.8122 | roc_auc=0.9846 | hamming=0.0488 | jaccard=0.7140 | precision=0.8529 | recall=0.8083 | avg_prec=0.9214 | kappa=0.8397 | loss=0.0000 │ val_score=0.8788\n",
      "[08:03:03.374] Epoch  37/50 │ [train] lr=0.0005 | loss=0.4410 │ [val] acc=0.9268 | f1=0.8969 | roc_auc=0.9895 | hamming=0.0293 | jaccard=0.8228 | precision=0.9294 | recall=0.8850 | avg_prec=0.9452 | kappa=0.9040 | loss=0.0000 │ val_score=0.9301\n",
      "[08:03:10.705] Epoch  38/50 │ [train] lr=0.0005 | loss=0.4488 │ [val] acc=0.8902 | f1=0.8438 | roc_auc=0.9914 | hamming=0.0439 | jaccard=0.7473 | precision=0.8998 | recall=0.8333 | avg_prec=0.9522 | kappa=0.8557 | loss=0.0000 │ val_score=0.8970\n",
      "[08:03:15.586] Epoch  39/50 │ [train] lr=0.0005 | loss=0.4288 │ [val] acc=0.9146 | f1=0.8789 | roc_auc=0.9918 | hamming=0.0341 | jaccard=0.7965 | precision=0.8972 | recall=0.8717 | avg_prec=0.9565 | kappa=0.8881 | loss=0.0000 │ val_score=0.9196\n",
      "[08:03:20.455] Epoch  40/50 │ [train] lr=0.0005 | loss=0.4163 │ [val] acc=0.8780 | f1=0.8122 | roc_auc=0.9839 | hamming=0.0488 | jaccard=0.7140 | precision=0.8554 | recall=0.8083 | avg_prec=0.9302 | kappa=0.8397 | loss=0.0000 │ val_score=0.8786\n",
      "[08:03:25.405] Epoch  41/50 │ [train] lr=0.0005 | loss=0.5427 │ [val] acc=0.8902 | f1=0.8611 | roc_auc=0.9896 | hamming=0.0439 | jaccard=0.7673 | precision=0.8833 | recall=0.8567 | avg_prec=0.9527 | kappa=0.8565 | loss=0.0000 │ val_score=0.9024\n",
      "[08:03:30.402] Epoch  42/50 │ [train] lr=0.0005 | loss=0.4487 │ [val] acc=0.9146 | f1=0.8885 | roc_auc=0.9911 | hamming=0.0341 | jaccard=0.8077 | precision=0.8968 | recall=0.8833 | avg_prec=0.9587 | kappa=0.8883 | loss=0.0000 │ val_score=0.9226\n",
      "[08:03:35.433] Epoch  43/50 │ [train] lr=0.0005 | loss=0.4971 │ [val] acc=0.8902 | f1=0.8517 | roc_auc=0.9909 | hamming=0.0439 | jaccard=0.7585 | precision=0.8596 | recall=0.8567 | avg_prec=0.9525 | kappa=0.8569 | loss=0.0000 │ val_score=0.8999\n",
      "[08:03:40.393] Epoch  44/50 │ [train] lr=0.0005 | loss=0.4440 │ [val] acc=0.9024 | f1=0.8584 | roc_auc=0.9844 | hamming=0.0390 | jaccard=0.7681 | precision=0.9111 | recall=0.8467 | avg_prec=0.9284 | kappa=0.8718 | loss=0.0000 │ val_score=0.9049\n",
      "[08:03:45.326] Epoch  45/50 │ [train] lr=0.0005 | loss=0.4574 │ [val] acc=0.8659 | f1=0.8311 | roc_auc=0.9802 | hamming=0.0537 | jaccard=0.7211 | precision=0.8596 | recall=0.8248 | avg_prec=0.9279 | kappa=0.8247 | loss=0.0000 │ val_score=0.8786\n",
      "[08:03:50.288] Epoch  46/50 │ [train] lr=0.0005 | loss=0.4015 │ [val] acc=0.8659 | f1=0.7989 | roc_auc=0.9850 | hamming=0.0537 | jaccard=0.6940 | precision=0.8456 | recall=0.7950 | avg_prec=0.9241 | kappa=0.8237 | loss=0.0000 │ val_score=0.8692\n",
      "[08:03:55.195] Epoch  47/50 │ [train] lr=0.0005 | loss=0.4156 │ [val] acc=0.9146 | f1=0.8703 | roc_auc=0.9871 | hamming=0.0341 | jaccard=0.7871 | precision=0.9172 | recall=0.8600 | avg_prec=0.9432 | kappa=0.8878 | loss=0.0000 │ val_score=0.9151\n",
      "[08:04:00.018] Epoch  48/50 │ [train] lr=0.0005 | loss=0.3608 │ [val] acc=0.9146 | f1=0.8711 | roc_auc=0.9829 | hamming=0.0341 | jaccard=0.7896 | precision=0.9203 | recall=0.8600 | avg_prec=0.9328 | kappa=0.8878 | loss=0.0000 │ val_score=0.9140\n",
      "[08:04:04.972] Epoch  49/50 │ [train] lr=0.0005 | loss=0.3956 │ [val] acc=0.9268 | f1=0.8962 | roc_auc=0.9919 | hamming=0.0293 | jaccard=0.8203 | precision=0.9264 | recall=0.8850 | avg_prec=0.9649 | kappa=0.9040 | loss=0.0000 │ val_score=0.9307\n",
      "[08:04:11.875] Epoch  50/50 │ [train] lr=0.0005 | loss=0.4114 │ [val] acc=0.8902 | f1=0.8479 | roc_auc=0.9921 | hamming=0.0439 | jaccard=0.7514 | precision=0.8652 | recall=0.8450 | avg_prec=0.9624 | kappa=0.8563 | loss=0.0000 │ val_score=0.8988\n",
      "[08:04:15.403] Training time 0:04:51\n"
     ]
    }
   ],
   "source": [
    "!python main_finetune.py --data_path OCTID --finetune RETFound_mae_meh --epochs 50 --warmup_epochs 10 --batch_size 16 --lr 5e-4 --layer_decay 0.65 --task RETFound_mae_meh-OCTID --nb_classes 5"
   ]
  },
  {
   "cell_type": "markdown",
   "id": "b9d459ce",
   "metadata": {},
   "source": [
    "## 运行 Retina 数据集实验"
   ]
  },
  {
   "cell_type": "code",
   "execution_count": 4,
   "id": "97249bca",
   "metadata": {},
   "outputs": [
    {
     "name": "stdout",
     "output_type": "stream",
     "text": [
      "[08:04:21.632] Instantiating VisionTransformer (for RETFound_mae) with args: {'embed_dim': 1024, 'depth': 24, 'num_heads': 16, 'mlp_ratio': 4.0, 'patch_size': 16, 'img_size': 224, 'in_chans': 3, 'qkv_bias': True, 'drop_rate': 0.0, 'attn_drop_rate': 0.0, 'drop_path_rate': 0.2, 'use_cls_token': True, 'global_pool': True, 'num_classes': 4, 'norm_layer': functools.partial(<class 'paddle.nn.layer.norm.LayerNorm'>, epsilon=1e-06)}\n",
      "W0615 08:04:21.829578 102579 gpu_resources.cc:119] Please NOTE: device: 0, GPU Compute Capability: 8.0, Driver API Version: 12.8, Runtime API Version: 12.6\n",
      "W0615 08:04:21.830734 102579 gpu_resources.cc:164] device: 0, cuDNN Version: 9.5.\n",
      "[08:04:36.755] Position interpolate pass\n",
      "[08:04:37.364] Warning: paddle.vision.transforms.RandAugment not found. Skipping.\n",
      "[08:04:37.383] Dataset 'train': Loaded 336 samples from Retina/train\n",
      "[08:04:37.392] Dataset 'val': Loaded 84 samples from Retina/val\n",
      "[08:04:37.405] Dataset 'test': Loaded 181 samples from Retina/test\n",
      "[08:04:37.410] Start training for 50 epochs\n",
      "[08:04:39.859] Found inf or nan, current scale is: 65536.0, decrease to: 65536.0*0.5\n",
      "[08:04:40.016] Found inf or nan, current scale is: 32768.0, decrease to: 32768.0*0.5\n",
      "[08:04:40.136] Found inf or nan, current scale is: 16384.0, decrease to: 16384.0*0.5\n",
      "[08:04:40.248] Found inf or nan, current scale is: 8192.0, decrease to: 8192.0*0.5\n",
      "[08:04:40.359] Found inf or nan, current scale is: 4096.0, decrease to: 4096.0*0.5\n",
      "[08:04:44.206] Epoch   1/50 │ [train] lr=0.0005 | loss=1.9890 │ [val] acc=0.5238 | f1=0.2291 | roc_auc=0.6020 | hamming=0.2381 | jaccard=0.1642 | precision=0.2579 | recall=0.2857 | avg_prec=0.3575 | kappa=0.0840 | loss=0.0000 │ val_score=0.3050\n",
      "[08:04:52.113] Epoch   2/50 │ [train] lr=0.0005 | loss=1.1440 │ [val] acc=0.5476 | f1=0.2732 | roc_auc=0.6696 | hamming=0.2262 | jaccard=0.1970 | precision=0.2810 | recall=0.3214 | avg_prec=0.4364 | kappa=0.1493 | loss=0.0000 │ val_score=0.3640\n",
      "[08:04:59.542] Epoch   3/50 │ [train] lr=0.0005 | loss=1.0527 │ [val] acc=0.5714 | f1=0.4126 | roc_auc=0.6845 | hamming=0.2143 | jaccard=0.2996 | precision=0.4511 | recall=0.4167 | avg_prec=0.4706 | kappa=0.2848 | loss=0.0000 │ val_score=0.4606\n",
      "[08:05:06.402] Epoch   4/50 │ [train] lr=0.0005 | loss=0.9996 │ [val] acc=0.5476 | f1=0.3800 | roc_auc=0.6984 | hamming=0.2262 | jaccard=0.2734 | precision=0.4385 | recall=0.4167 | avg_prec=0.5020 | kappa=0.2785 | loss=0.0000 │ val_score=0.4523\n",
      "[08:05:11.758] Epoch   5/50 │ [train] lr=0.0005 | loss=1.0152 │ [val] acc=0.5833 | f1=0.3541 | roc_auc=0.7310 | hamming=0.2083 | jaccard=0.2605 | precision=0.3723 | recall=0.3869 | avg_prec=0.5220 | kappa=0.2606 | loss=0.0000 │ val_score=0.4486\n",
      "[08:05:16.890] Epoch   6/50 │ [train] lr=0.0005 | loss=0.9018 │ [val] acc=0.5952 | f1=0.3506 | roc_auc=0.7444 | hamming=0.2024 | jaccard=0.2705 | precision=0.2971 | recall=0.4286 | avg_prec=0.5515 | kappa=0.3014 | loss=0.0000 │ val_score=0.4655\n",
      "[08:05:24.071] Epoch   7/50 │ [train] lr=0.0005 | loss=0.9070 │ [val] acc=0.6667 | f1=0.5073 | roc_auc=0.7699 | hamming=0.1667 | jaccard=0.3883 | precision=0.5105 | recall=0.5238 | avg_prec=0.5966 | kappa=0.4362 | loss=0.0000 │ val_score=0.5711\n",
      "[08:05:31.329] Epoch   8/50 │ [train] lr=0.0005 | loss=0.8977 │ [val] acc=0.6667 | f1=0.5069 | roc_auc=0.7832 | hamming=0.1667 | jaccard=0.3885 | precision=0.5145 | recall=0.5357 | avg_prec=0.6073 | kappa=0.4437 | loss=0.0000 │ val_score=0.5779\n",
      "[08:05:38.737] Epoch   9/50 │ [train] lr=0.0005 | loss=0.8604 │ [val] acc=0.6548 | f1=0.4795 | roc_auc=0.7928 | hamming=0.1726 | jaccard=0.3595 | precision=0.4960 | recall=0.4940 | avg_prec=0.6267 | kappa=0.4082 | loss=0.0000 │ val_score=0.5602\n",
      "[08:05:43.882] Epoch  10/50 │ [train] lr=0.0005 | loss=0.8107 │ [val] acc=0.6667 | f1=0.5452 | roc_auc=0.8116 | hamming=0.1667 | jaccard=0.4165 | precision=0.6265 | recall=0.5357 | avg_prec=0.6473 | kappa=0.4545 | loss=0.0000 │ val_score=0.6038\n",
      "[08:05:51.384] Epoch  11/50 │ [train] lr=0.0005 | loss=0.7908 │ [val] acc=0.6667 | f1=0.5041 | roc_auc=0.8329 | hamming=0.1667 | jaccard=0.3833 | precision=0.5709 | recall=0.5119 | avg_prec=0.6503 | kappa=0.4247 | loss=0.0000 │ val_score=0.5872\n",
      "[08:05:56.542] Epoch  12/50 │ [train] lr=0.0005 | loss=0.7762 │ [val] acc=0.6786 | f1=0.5518 | roc_auc=0.8348 | hamming=0.1607 | jaccard=0.4217 | precision=0.5890 | recall=0.5655 | avg_prec=0.6653 | kappa=0.4841 | loss=0.0000 │ val_score=0.6236\n",
      "[08:06:03.913] Epoch  13/50 │ [train] lr=0.0005 | loss=0.7600 │ [val] acc=0.6905 | f1=0.5531 | roc_auc=0.8281 | hamming=0.1548 | jaccard=0.4214 | precision=0.7002 | recall=0.5595 | avg_prec=0.6499 | kappa=0.4868 | loss=0.0000 │ val_score=0.6227\n",
      "[08:06:09.244] Epoch  14/50 │ [train] lr=0.0005 | loss=0.7421 │ [val] acc=0.7024 | f1=0.6105 | roc_auc=0.8387 | hamming=0.1488 | jaccard=0.4619 | precision=0.7161 | recall=0.5774 | avg_prec=0.6770 | kappa=0.5130 | loss=0.0000 │ val_score=0.6541\n",
      "[08:06:16.759] Epoch  15/50 │ [train] lr=0.0005 | loss=0.7041 │ [val] acc=0.6310 | f1=0.5718 | roc_auc=0.8594 | hamming=0.1845 | jaccard=0.4161 | precision=0.6142 | recall=0.5536 | avg_prec=0.7019 | kappa=0.4294 | loss=0.0000 │ val_score=0.6202\n",
      "[08:06:22.072] Epoch  16/50 │ [train] lr=0.0005 | loss=0.6974 │ [val] acc=0.7262 | f1=0.6337 | roc_auc=0.8523 | hamming=0.1369 | jaccard=0.4873 | precision=0.7550 | recall=0.6131 | avg_prec=0.6925 | kappa=0.5519 | loss=0.0000 │ val_score=0.6793\n",
      "[08:06:29.815] Epoch  17/50 │ [train] lr=0.0005 | loss=0.6905 │ [val] acc=0.7381 | f1=0.6618 | roc_auc=0.8519 | hamming=0.1310 | jaccard=0.5113 | precision=0.7794 | recall=0.6310 | avg_prec=0.6900 | kappa=0.5714 | loss=0.0000 │ val_score=0.6951\n",
      "[08:06:36.825] Epoch  18/50 │ [train] lr=0.0005 | loss=0.6789 │ [val] acc=0.6429 | f1=0.5984 | roc_auc=0.8438 | hamming=0.1786 | jaccard=0.4426 | precision=0.6536 | recall=0.5833 | avg_prec=0.6948 | kappa=0.4578 | loss=0.0000 │ val_score=0.6334\n",
      "[08:06:45.585] Epoch  19/50 │ [train] lr=0.0005 | loss=0.6755 │ [val] acc=0.6429 | f1=0.5563 | roc_auc=0.8535 | hamming=0.1786 | jaccard=0.4145 | precision=0.5832 | recall=0.5595 | avg_prec=0.6831 | kappa=0.4410 | loss=0.0000 │ val_score=0.6169\n",
      "[08:06:51.582] Epoch  20/50 │ [train] lr=0.0005 | loss=0.6752 │ [val] acc=0.6786 | f1=0.6032 | roc_auc=0.8623 | hamming=0.1607 | jaccard=0.4574 | precision=0.6182 | recall=0.6131 | avg_prec=0.6953 | kappa=0.5061 | loss=0.0000 │ val_score=0.6572\n",
      "[08:06:56.877] Epoch  21/50 │ [train] lr=0.0005 | loss=0.6450 │ [val] acc=0.6548 | f1=0.6020 | roc_auc=0.8489 | hamming=0.1726 | jaccard=0.4464 | precision=0.6183 | recall=0.6012 | avg_prec=0.6829 | kappa=0.4790 | loss=0.0000 │ val_score=0.6433\n",
      "[08:07:02.191] Epoch  22/50 │ [train] lr=0.0005 | loss=0.6214 │ [val] acc=0.6905 | f1=0.6083 | roc_auc=0.8518 | hamming=0.1548 | jaccard=0.4601 | precision=0.6599 | recall=0.5952 | avg_prec=0.6930 | kappa=0.5032 | loss=0.0000 │ val_score=0.6544\n",
      "[08:07:08.152] Epoch  23/50 │ [train] lr=0.0005 | loss=0.6156 │ [val] acc=0.7143 | f1=0.6186 | roc_auc=0.8434 | hamming=0.1429 | jaccard=0.4719 | precision=0.7228 | recall=0.5952 | avg_prec=0.6811 | kappa=0.5294 | loss=0.0000 │ val_score=0.6638\n",
      "[08:07:13.641] Epoch  24/50 │ [train] lr=0.0005 | loss=0.6104 │ [val] acc=0.7143 | f1=0.6572 | roc_auc=0.8511 | hamming=0.1429 | jaccard=0.5038 | precision=0.6903 | recall=0.6429 | avg_prec=0.6900 | kappa=0.5556 | loss=0.0000 │ val_score=0.6879\n",
      "[08:07:18.911] Epoch  25/50 │ [train] lr=0.0005 | loss=0.5894 │ [val] acc=0.7262 | f1=0.6378 | roc_auc=0.8643 | hamming=0.1369 | jaccard=0.4917 | precision=0.7637 | recall=0.6131 | avg_prec=0.7185 | kappa=0.5490 | loss=0.0000 │ val_score=0.6837\n",
      "[08:07:23.975] Epoch  26/50 │ [train] lr=0.0005 | loss=0.5390 │ [val] acc=0.7143 | f1=0.6391 | roc_auc=0.8543 | hamming=0.1429 | jaccard=0.4824 | precision=0.7187 | recall=0.6071 | avg_prec=0.6928 | kappa=0.5385 | loss=0.0000 │ val_score=0.6773\n",
      "[08:07:29.202] Epoch  27/50 │ [train] lr=0.0005 | loss=0.5659 │ [val] acc=0.6905 | f1=0.6226 | roc_auc=0.8641 | hamming=0.1548 | jaccard=0.4682 | precision=0.6371 | recall=0.6190 | avg_prec=0.6851 | kappa=0.5244 | loss=0.0000 │ val_score=0.6703\n",
      "[08:07:34.554] Epoch  28/50 │ [train] lr=0.0005 | loss=0.5781 │ [val] acc=0.6905 | f1=0.6166 | roc_auc=0.8639 | hamming=0.1548 | jaccard=0.4610 | precision=0.6723 | recall=0.5952 | avg_prec=0.6974 | kappa=0.5032 | loss=0.0000 │ val_score=0.6613\n",
      "[08:07:39.834] Epoch  29/50 │ [train] lr=0.0005 | loss=0.5396 │ [val] acc=0.7262 | f1=0.6600 | roc_auc=0.8545 | hamming=0.1369 | jaccard=0.5043 | precision=0.7093 | recall=0.6369 | avg_prec=0.6951 | kappa=0.5660 | loss=0.0000 │ val_score=0.6935\n",
      "[08:07:45.013] Epoch  30/50 │ [train] lr=0.0005 | loss=0.5122 │ [val] acc=0.6667 | f1=0.6057 | roc_auc=0.8589 | hamming=0.1667 | jaccard=0.4502 | precision=0.6227 | recall=0.5952 | avg_prec=0.6924 | kappa=0.4847 | loss=0.0000 │ val_score=0.6498\n",
      "[08:07:50.239] Epoch  31/50 │ [train] lr=0.0005 | loss=0.5085 │ [val] acc=0.6905 | f1=0.6313 | roc_auc=0.8473 | hamming=0.1548 | jaccard=0.4694 | precision=0.6942 | recall=0.6071 | avg_prec=0.6837 | kappa=0.5063 | loss=0.0000 │ val_score=0.6616\n",
      "[08:07:55.447] Epoch  32/50 │ [train] lr=0.0005 | loss=0.5340 │ [val] acc=0.7500 | f1=0.6843 | roc_auc=0.8575 | hamming=0.1250 | jaccard=0.5340 | precision=0.7749 | recall=0.6488 | avg_prec=0.7115 | kappa=0.5935 | loss=0.0000 │ val_score=0.7118\n",
      "[08:08:02.305] Epoch  33/50 │ [train] lr=0.0005 | loss=0.4651 │ [val] acc=0.6429 | f1=0.5798 | roc_auc=0.8647 | hamming=0.1786 | jaccard=0.4175 | precision=0.6147 | recall=0.5595 | avg_prec=0.6969 | kappa=0.4410 | loss=0.0000 │ val_score=0.6285\n",
      "[08:08:07.546] Epoch  34/50 │ [train] lr=0.0005 | loss=0.4820 │ [val] acc=0.7024 | f1=0.6531 | roc_auc=0.8646 | hamming=0.1488 | jaccard=0.4986 | precision=0.6900 | recall=0.6726 | avg_prec=0.7055 | kappa=0.5588 | loss=0.0000 │ val_score=0.6922\n",
      "[08:08:12.915] Epoch  35/50 │ [train] lr=0.0005 | loss=0.4341 │ [val] acc=0.7024 | f1=0.6485 | roc_auc=0.8789 | hamming=0.1488 | jaccard=0.4912 | precision=0.6917 | recall=0.6369 | avg_prec=0.7217 | kappa=0.5399 | loss=0.0000 │ val_score=0.6891\n",
      "[08:08:18.008] Epoch  36/50 │ [train] lr=0.0005 | loss=0.4721 │ [val] acc=0.7143 | f1=0.6513 | roc_auc=0.8694 | hamming=0.1429 | jaccard=0.4933 | precision=0.7061 | recall=0.6310 | avg_prec=0.7187 | kappa=0.5472 | loss=0.0000 │ val_score=0.6893\n",
      "[08:08:23.147] Epoch  37/50 │ [train] lr=0.0005 | loss=0.4176 │ [val] acc=0.7381 | f1=0.6892 | roc_auc=0.8653 | hamming=0.1310 | jaccard=0.5383 | precision=0.7314 | recall=0.6667 | avg_prec=0.7266 | kappa=0.5875 | loss=0.0000 │ val_score=0.7140\n",
      "[08:08:30.083] Epoch  38/50 │ [train] lr=0.0005 | loss=0.4269 │ [val] acc=0.6905 | f1=0.6592 | roc_auc=0.8675 | hamming=0.1548 | jaccard=0.4990 | precision=0.6820 | recall=0.6429 | avg_prec=0.7356 | kappa=0.5244 | loss=0.0000 │ val_score=0.6837\n",
      "[08:08:35.212] Epoch  39/50 │ [train] lr=0.0005 | loss=0.4864 │ [val] acc=0.6667 | f1=0.5986 | roc_auc=0.8440 | hamming=0.1667 | jaccard=0.4416 | precision=0.6366 | recall=0.5952 | avg_prec=0.6792 | kappa=0.4847 | loss=0.0000 │ val_score=0.6424\n",
      "[08:08:40.409] Epoch  40/50 │ [train] lr=0.0005 | loss=0.4789 │ [val] acc=0.6667 | f1=0.6041 | roc_auc=0.8567 | hamming=0.1667 | jaccard=0.4520 | precision=0.6315 | recall=0.6190 | avg_prec=0.7073 | kappa=0.5000 | loss=0.0000 │ val_score=0.6536\n",
      "[08:08:45.572] Epoch  41/50 │ [train] lr=0.0005 | loss=0.4552 │ [val] acc=0.7500 | f1=0.7147 | roc_auc=0.8632 | hamming=0.1250 | jaccard=0.5670 | precision=0.7266 | recall=0.7083 | avg_prec=0.7208 | kappa=0.6182 | loss=0.0000 │ val_score=0.7320\n",
      "[08:08:52.730] Epoch  42/50 │ [train] lr=0.0005 | loss=0.4766 │ [val] acc=0.7024 | f1=0.6409 | roc_auc=0.8667 | hamming=0.1488 | jaccard=0.4805 | precision=0.6987 | recall=0.6131 | avg_prec=0.7204 | kappa=0.5253 | loss=0.0000 │ val_score=0.6776\n",
      "[08:08:57.952] Epoch  43/50 │ [train] lr=0.0005 | loss=0.3917 │ [val] acc=0.7143 | f1=0.6781 | roc_auc=0.8738 | hamming=0.1429 | jaccard=0.5225 | precision=0.6926 | recall=0.6667 | avg_prec=0.7338 | kappa=0.5636 | loss=0.0000 │ val_score=0.7052\n",
      "[08:09:03.201] Epoch  44/50 │ [train] lr=0.0005 | loss=0.4494 │ [val] acc=0.7024 | f1=0.6430 | roc_auc=0.8648 | hamming=0.1488 | jaccard=0.4917 | precision=0.6825 | recall=0.6607 | avg_prec=0.7066 | kappa=0.5482 | loss=0.0000 │ val_score=0.6853\n",
      "[08:09:08.398] Epoch  45/50 │ [train] lr=0.0005 | loss=0.4229 │ [val] acc=0.7024 | f1=0.6110 | roc_auc=0.8595 | hamming=0.1488 | jaccard=0.4621 | precision=0.6934 | recall=0.5893 | avg_prec=0.6936 | kappa=0.5130 | loss=0.0000 │ val_score=0.6612\n",
      "[08:09:13.652] Epoch  46/50 │ [train] lr=0.0005 | loss=0.4399 │ [val] acc=0.6667 | f1=0.6053 | roc_auc=0.8422 | hamming=0.1667 | jaccard=0.4437 | precision=0.6573 | recall=0.5833 | avg_prec=0.6782 | kappa=0.4783 | loss=0.0000 │ val_score=0.6419\n",
      "[08:09:18.857] Epoch  47/50 │ [train] lr=0.0005 | loss=0.4877 │ [val] acc=0.7024 | f1=0.6412 | roc_auc=0.8565 | hamming=0.1488 | jaccard=0.4829 | precision=0.6804 | recall=0.6369 | avg_prec=0.7048 | kappa=0.5399 | loss=0.0000 │ val_score=0.6792\n",
      "[08:09:24.116] Epoch  48/50 │ [train] lr=0.0005 | loss=0.3829 │ [val] acc=0.6905 | f1=0.6348 | roc_auc=0.8578 | hamming=0.1548 | jaccard=0.4765 | precision=0.6810 | recall=0.6071 | avg_prec=0.6892 | kappa=0.5094 | loss=0.0000 │ val_score=0.6673\n",
      "[08:09:29.362] Epoch  49/50 │ [train] lr=0.0005 | loss=0.3072 │ [val] acc=0.7143 | f1=0.6499 | roc_auc=0.8555 | hamming=0.1429 | jaccard=0.4997 | precision=0.6834 | recall=0.6429 | avg_prec=0.6874 | kappa=0.5556 | loss=0.0000 │ val_score=0.6870\n",
      "[08:09:34.557] Epoch  50/50 │ [train] lr=0.0005 | loss=0.3569 │ [val] acc=0.7262 | f1=0.6827 | roc_auc=0.8564 | hamming=0.1369 | jaccard=0.5272 | precision=0.7153 | recall=0.6964 | avg_prec=0.6910 | kappa=0.5893 | loss=0.0000 │ val_score=0.7095\n",
      "[08:09:40.116] Training time 0:05:02\n"
     ]
    }
   ],
   "source": [
    "!python main_finetune.py --data_path Retina --finetune RETFound_mae_meh --epochs 50 --warmup_epochs 10 --batch_size 16 --lr 5e-4 --layer_decay 0.65 --task RETFound_mae_meh-Retina --nb_classes 4"
   ]
  },
  {
   "cell_type": "markdown",
   "id": "c4275191",
   "metadata": {},
   "source": [
    "## 运行 APTOS2019 数据集实验"
   ]
  },
  {
   "cell_type": "code",
   "execution_count": 5,
   "id": "6f6bfa52",
   "metadata": {},
   "outputs": [
    {
     "name": "stdout",
     "output_type": "stream",
     "text": [
      "[08:09:55.773] Instantiating VisionTransformer (for RETFound_mae) with args: {'embed_dim': 1024, 'depth': 24, 'num_heads': 16, 'mlp_ratio': 4.0, 'patch_size': 16, 'img_size': 224, 'in_chans': 3, 'qkv_bias': True, 'drop_rate': 0.0, 'attn_drop_rate': 0.0, 'drop_path_rate': 0.2, 'use_cls_token': True, 'global_pool': True, 'num_classes': 5, 'norm_layer': functools.partial(<class 'paddle.nn.layer.norm.LayerNorm'>, epsilon=1e-06)}\n",
      "W0615 08:09:55.976642 109752 gpu_resources.cc:119] Please NOTE: device: 0, GPU Compute Capability: 8.0, Driver API Version: 12.8, Runtime API Version: 12.6\n",
      "W0615 08:09:55.977274 109752 gpu_resources.cc:164] device: 0, cuDNN Version: 9.5.\n",
      "[08:10:35.488] Position interpolate pass\n",
      "[08:10:35.716] Warning: paddle.vision.transforms.RandAugment not found. Skipping.\n",
      "[08:10:35.802] Dataset 'train': Loaded 2048 samples from APTOS2019/train\n",
      "[08:10:35.827] Dataset 'val': Loaded 514 samples from APTOS2019/val\n",
      "[08:10:36.080] Dataset 'test': Loaded 1100 samples from APTOS2019/test\n",
      "[08:10:36.130] Start training for 50 epochs\n",
      "[08:10:38.600] Found inf or nan, current scale is: 65536.0, decrease to: 65536.0*0.5\n",
      "[08:10:38.744] Found inf or nan, current scale is: 32768.0, decrease to: 32768.0*0.5\n",
      "[08:10:38.863] Found inf or nan, current scale is: 16384.0, decrease to: 16384.0*0.5\n",
      "[08:10:38.976] Found inf or nan, current scale is: 8192.0, decrease to: 8192.0*0.5\n",
      "[08:10:59.687] Epoch   1/50 │ [train] lr=0.0005 | loss=1.0007 │ [val] acc=0.7412 | f1=0.4714 | roc_auc=0.9112 | hamming=0.1035 | jaccard=0.3734 | precision=0.5292 | recall=0.5006 | avg_prec=0.5897 | kappa=0.6018 | loss=0.0000 │ val_score=0.6615\n",
      "[08:11:22.104] Epoch   2/50 │ [train] lr=0.0005 | loss=0.6882 │ [val] acc=0.7996 | f1=0.5832 | roc_auc=0.9326 | hamming=0.0802 | jaccard=0.4602 | precision=0.6537 | recall=0.5667 | avg_prec=0.6555 | kappa=0.6889 | loss=0.0000 │ val_score=0.7349\n",
      "[08:11:44.529] Epoch   3/50 │ [train] lr=0.0005 | loss=0.6346 │ [val] acc=0.8152 | f1=0.5999 | roc_auc=0.9417 | hamming=0.0739 | jaccard=0.4818 | precision=0.6873 | recall=0.5780 | avg_prec=0.6831 | kappa=0.7122 | loss=0.0000 │ val_score=0.7513\n",
      "[08:12:07.867] Epoch   4/50 │ [train] lr=0.0005 | loss=0.6006 │ [val] acc=0.7996 | f1=0.5869 | roc_auc=0.9372 | hamming=0.0802 | jaccard=0.4628 | precision=0.7247 | recall=0.5786 | avg_prec=0.6699 | kappa=0.6895 | loss=0.0000 │ val_score=0.7379\n",
      "[08:12:27.961] Epoch   5/50 │ [train] lr=0.0005 | loss=0.5823 │ [val] acc=0.8288 | f1=0.6619 | roc_auc=0.9513 | hamming=0.0685 | jaccard=0.5309 | precision=0.7243 | recall=0.6339 | avg_prec=0.7268 | kappa=0.7364 | loss=0.0000 │ val_score=0.7832\n",
      "[08:12:50.367] Epoch   6/50 │ [train] lr=0.0005 | loss=0.5409 │ [val] acc=0.8288 | f1=0.6667 | roc_auc=0.9482 | hamming=0.0685 | jaccard=0.5390 | precision=0.7492 | recall=0.6423 | avg_prec=0.7268 | kappa=0.7367 | loss=0.0000 │ val_score=0.7839\n",
      "[08:13:13.400] Epoch   7/50 │ [train] lr=0.0005 | loss=0.5434 │ [val] acc=0.8366 | f1=0.6828 | roc_auc=0.9471 | hamming=0.0654 | jaccard=0.5504 | precision=0.7557 | recall=0.6524 | avg_prec=0.7269 | kappa=0.7484 | loss=0.0000 │ val_score=0.7928\n",
      "[08:13:35.772] Epoch   8/50 │ [train] lr=0.0005 | loss=0.5164 │ [val] acc=0.8405 | f1=0.7092 | roc_auc=0.9514 | hamming=0.0638 | jaccard=0.5761 | precision=0.7248 | recall=0.7017 | avg_prec=0.7246 | kappa=0.7578 | loss=0.0000 │ val_score=0.8061\n",
      "[08:13:57.748] Epoch   9/50 │ [train] lr=0.0005 | loss=0.5137 │ [val] acc=0.8210 | f1=0.5937 | roc_auc=0.9464 | hamming=0.0716 | jaccard=0.4820 | precision=0.7794 | recall=0.5683 | avg_prec=0.6998 | kappa=0.7191 | loss=0.0000 │ val_score=0.7531\n",
      "[08:14:18.026] Epoch  10/50 │ [train] lr=0.0005 | loss=0.5043 │ [val] acc=0.8327 | f1=0.6220 | roc_auc=0.9506 | hamming=0.0669 | jaccard=0.5105 | precision=0.7496 | recall=0.6061 | avg_prec=0.7252 | kappa=0.7394 | loss=0.0000 │ val_score=0.7706\n",
      "[08:14:38.284] Epoch  11/50 │ [train] lr=0.0005 | loss=0.5071 │ [val] acc=0.8288 | f1=0.6406 | roc_auc=0.9480 | hamming=0.0685 | jaccard=0.5188 | precision=0.7428 | recall=0.6177 | avg_prec=0.7112 | kappa=0.7356 | loss=0.0000 │ val_score=0.7747\n",
      "[08:14:58.521] Epoch  12/50 │ [train] lr=0.0005 | loss=0.4994 │ [val] acc=0.8113 | f1=0.6427 | roc_auc=0.9485 | hamming=0.0755 | jaccard=0.5171 | precision=0.7440 | recall=0.6490 | avg_prec=0.7341 | kappa=0.7147 | loss=0.0000 │ val_score=0.7687\n",
      "[08:15:18.880] Epoch  13/50 │ [train] lr=0.0005 | loss=0.4890 │ [val] acc=0.8444 | f1=0.7147 | roc_auc=0.9551 | hamming=0.0623 | jaccard=0.5821 | precision=0.7365 | recall=0.7075 | avg_prec=0.7440 | kappa=0.7642 | loss=0.0000 │ val_score=0.8113\n",
      "[08:15:40.920] Epoch  14/50 │ [train] lr=0.0005 | loss=0.4859 │ [val] acc=0.8288 | f1=0.6878 | roc_auc=0.9474 | hamming=0.0685 | jaccard=0.5539 | precision=0.7097 | recall=0.6779 | avg_prec=0.7037 | kappa=0.7406 | loss=0.0000 │ val_score=0.7919\n",
      "[08:16:01.093] Epoch  15/50 │ [train] lr=0.0005 | loss=0.4715 │ [val] acc=0.8288 | f1=0.6638 | roc_auc=0.9501 | hamming=0.0685 | jaccard=0.5375 | precision=0.7267 | recall=0.6491 | avg_prec=0.7218 | kappa=0.7349 | loss=0.0000 │ val_score=0.7830\n",
      "[08:16:21.220] Epoch  16/50 │ [train] lr=0.0005 | loss=0.4486 │ [val] acc=0.8327 | f1=0.6975 | roc_auc=0.9493 | hamming=0.0669 | jaccard=0.5633 | precision=0.7199 | recall=0.6897 | avg_prec=0.7418 | kappa=0.7451 | loss=0.0000 │ val_score=0.7973\n",
      "[08:16:41.504] Epoch  17/50 │ [train] lr=0.0005 | loss=0.4518 │ [val] acc=0.8327 | f1=0.7054 | roc_auc=0.9507 | hamming=0.0669 | jaccard=0.5707 | precision=0.7249 | recall=0.6949 | avg_prec=0.7400 | kappa=0.7461 | loss=0.0000 │ val_score=0.8007\n",
      "[08:17:01.745] Epoch  18/50 │ [train] lr=0.0005 | loss=0.4494 │ [val] acc=0.8035 | f1=0.6824 | roc_auc=0.9527 | hamming=0.0786 | jaccard=0.5428 | precision=0.7035 | recall=0.7014 | avg_prec=0.7396 | kappa=0.7084 | loss=0.0000 │ val_score=0.7812\n",
      "[08:17:22.041] Epoch  19/50 │ [train] lr=0.0005 | loss=0.4826 │ [val] acc=0.8288 | f1=0.6929 | roc_auc=0.9462 | hamming=0.0685 | jaccard=0.5590 | precision=0.7390 | recall=0.6774 | avg_prec=0.7168 | kappa=0.7393 | loss=0.0000 │ val_score=0.7928\n",
      "[08:17:42.163] Epoch  20/50 │ [train] lr=0.0005 | loss=0.4288 │ [val] acc=0.8366 | f1=0.6844 | roc_auc=0.9511 | hamming=0.0654 | jaccard=0.5542 | precision=0.7331 | recall=0.6667 | avg_prec=0.7216 | kappa=0.7505 | loss=0.0000 │ val_score=0.7953\n",
      "[08:18:02.327] Epoch  21/50 │ [train] lr=0.0005 | loss=0.4330 │ [val] acc=0.8366 | f1=0.6992 | roc_auc=0.9484 | hamming=0.0654 | jaccard=0.5665 | precision=0.7097 | recall=0.7026 | avg_prec=0.7145 | kappa=0.7530 | loss=0.0000 │ val_score=0.8002\n",
      "[08:18:22.588] Epoch  22/50 │ [train] lr=0.0005 | loss=0.4311 │ [val] acc=0.8463 | f1=0.6984 | roc_auc=0.9481 | hamming=0.0615 | jaccard=0.5678 | precision=0.7527 | recall=0.6754 | avg_prec=0.7210 | kappa=0.7647 | loss=0.0000 │ val_score=0.8037\n",
      "[08:18:42.958] Epoch  23/50 │ [train] lr=0.0005 | loss=0.4329 │ [val] acc=0.8424 | f1=0.6745 | roc_auc=0.9522 | hamming=0.0630 | jaccard=0.5467 | precision=0.7561 | recall=0.6502 | avg_prec=0.7505 | kappa=0.7577 | loss=0.0000 │ val_score=0.7948\n",
      "[08:19:03.023] Epoch  24/50 │ [train] lr=0.0005 | loss=0.4079 │ [val] acc=0.8444 | f1=0.7021 | roc_auc=0.9502 | hamming=0.0623 | jaccard=0.5717 | precision=0.7291 | recall=0.6865 | avg_prec=0.7283 | kappa=0.7633 | loss=0.0000 │ val_score=0.8052\n",
      "[08:19:23.123] Epoch  25/50 │ [train] lr=0.0005 | loss=0.3892 │ [val] acc=0.8405 | f1=0.6642 | roc_auc=0.9509 | hamming=0.0638 | jaccard=0.5365 | precision=0.7397 | recall=0.6316 | avg_prec=0.7230 | kappa=0.7529 | loss=0.0000 │ val_score=0.7893\n",
      "[08:19:43.140] Epoch  26/50 │ [train] lr=0.0005 | loss=0.4074 │ [val] acc=0.8405 | f1=0.6778 | roc_auc=0.9506 | hamming=0.0638 | jaccard=0.5485 | precision=0.7483 | recall=0.6458 | avg_prec=0.7213 | kappa=0.7536 | loss=0.0000 │ val_score=0.7940\n",
      "[08:20:03.250] Epoch  27/50 │ [train] lr=0.0005 | loss=0.3842 │ [val] acc=0.8346 | f1=0.6714 | roc_auc=0.9488 | hamming=0.0661 | jaccard=0.5407 | precision=0.7336 | recall=0.6513 | avg_prec=0.7375 | kappa=0.7458 | loss=0.0000 │ val_score=0.7887\n",
      "[08:20:23.104] Epoch  28/50 │ [train] lr=0.0005 | loss=0.3949 │ [val] acc=0.8502 | f1=0.7276 | roc_auc=0.9514 | hamming=0.0599 | jaccard=0.5960 | precision=0.7386 | recall=0.7189 | avg_prec=0.7435 | kappa=0.7733 | loss=0.0000 │ val_score=0.8174\n",
      "[08:20:45.594] Epoch  29/50 │ [train] lr=0.0005 | loss=0.3828 │ [val] acc=0.8444 | f1=0.7173 | roc_auc=0.9517 | hamming=0.0623 | jaccard=0.5844 | precision=0.7284 | recall=0.7105 | avg_prec=0.7468 | kappa=0.7645 | loss=0.0000 │ val_score=0.8112\n",
      "[08:21:05.890] Epoch  30/50 │ [train] lr=0.0005 | loss=0.3805 │ [val] acc=0.8327 | f1=0.6574 | roc_auc=0.9496 | hamming=0.0669 | jaccard=0.5277 | precision=0.7466 | recall=0.6224 | avg_prec=0.7294 | kappa=0.7396 | loss=0.0000 │ val_score=0.7822\n",
      "[08:21:26.156] Epoch  31/50 │ [train] lr=0.0005 | loss=0.4295 │ [val] acc=0.8346 | f1=0.6947 | roc_auc=0.9516 | hamming=0.0661 | jaccard=0.5612 | precision=0.7241 | recall=0.6804 | avg_prec=0.7330 | kappa=0.7489 | loss=0.0000 │ val_score=0.7984\n",
      "[08:21:33.178] Found inf or nan, current scale is: 16384.0, decrease to: 16384.0*0.5\n",
      "[08:21:46.988] Epoch  32/50 │ [train] lr=0.0005 | loss=0.3799 │ [val] acc=0.8327 | f1=0.6716 | roc_auc=0.9421 | hamming=0.0669 | jaccard=0.5398 | precision=0.7142 | recall=0.6504 | avg_prec=0.7059 | kappa=0.7430 | loss=0.0000 │ val_score=0.7856\n",
      "[08:22:11.790] Epoch  33/50 │ [train] lr=0.0005 | loss=0.3698 │ [val] acc=0.8346 | f1=0.6909 | roc_auc=0.9446 | hamming=0.0661 | jaccard=0.5590 | precision=0.7097 | recall=0.6869 | avg_prec=0.7166 | kappa=0.7507 | loss=0.0000 │ val_score=0.7954\n",
      "[08:22:33.469] Epoch  34/50 │ [train] lr=0.0005 | loss=0.3628 │ [val] acc=0.8230 | f1=0.6917 | roc_auc=0.9454 | hamming=0.0708 | jaccard=0.5554 | precision=0.6972 | recall=0.6932 | avg_prec=0.7164 | kappa=0.7345 | loss=0.0000 │ val_score=0.7905\n",
      "[08:22:54.105] Epoch  35/50 │ [train] lr=0.0005 | loss=0.3616 │ [val] acc=0.8405 | f1=0.6966 | roc_auc=0.9438 | hamming=0.0638 | jaccard=0.5646 | precision=0.7380 | recall=0.6822 | avg_prec=0.7055 | kappa=0.7573 | loss=0.0000 │ val_score=0.7993\n",
      "[08:23:15.701] Epoch  36/50 │ [train] lr=0.0005 | loss=0.3699 │ [val] acc=0.8424 | f1=0.7036 | roc_auc=0.9494 | hamming=0.0630 | jaccard=0.5710 | precision=0.7612 | recall=0.6778 | avg_prec=0.7511 | kappa=0.7589 | loss=0.0000 │ val_score=0.8040\n",
      "[08:23:37.905] Epoch  37/50 │ [train] lr=0.0005 | loss=0.3565 │ [val] acc=0.8288 | f1=0.6930 | roc_auc=0.9468 | hamming=0.0685 | jaccard=0.5581 | precision=0.6985 | recall=0.6890 | avg_prec=0.7195 | kappa=0.7409 | loss=0.0000 │ val_score=0.7935\n",
      "[08:23:58.924] Epoch  38/50 │ [train] lr=0.0005 | loss=0.3648 │ [val] acc=0.8327 | f1=0.7032 | roc_auc=0.9442 | hamming=0.0669 | jaccard=0.5685 | precision=0.6990 | recall=0.7082 | avg_prec=0.7342 | kappa=0.7488 | loss=0.0000 │ val_score=0.7987\n",
      "[08:24:19.374] Epoch  39/50 │ [train] lr=0.0005 | loss=0.3237 │ [val] acc=0.8249 | f1=0.6839 | roc_auc=0.9387 | hamming=0.0700 | jaccard=0.5494 | precision=0.6890 | recall=0.6922 | avg_prec=0.6979 | kappa=0.7361 | loss=0.0000 │ val_score=0.7862\n",
      "[08:24:40.092] Epoch  40/50 │ [train] lr=0.0005 | loss=0.3429 │ [val] acc=0.8482 | f1=0.7233 | roc_auc=0.9488 | hamming=0.0607 | jaccard=0.5909 | precision=0.7543 | recall=0.7225 | avg_prec=0.7438 | kappa=0.7700 | loss=0.0000 │ val_score=0.8140\n",
      "[08:25:00.795] Epoch  41/50 │ [train] lr=0.0005 | loss=0.3257 │ [val] acc=0.8405 | f1=0.7114 | roc_auc=0.9462 | hamming=0.0638 | jaccard=0.5780 | precision=0.7283 | recall=0.7024 | avg_prec=0.7318 | kappa=0.7580 | loss=0.0000 │ val_score=0.8052\n",
      "[08:25:21.150] Epoch  42/50 │ [train] lr=0.0005 | loss=0.3374 │ [val] acc=0.8268 | f1=0.6871 | roc_auc=0.9468 | hamming=0.0693 | jaccard=0.5525 | precision=0.7152 | recall=0.6749 | avg_prec=0.7264 | kappa=0.7378 | loss=0.0000 │ val_score=0.7906\n",
      "[08:25:41.402] Epoch  43/50 │ [train] lr=0.0005 | loss=0.3226 │ [val] acc=0.8113 | f1=0.6485 | roc_auc=0.9372 | hamming=0.0755 | jaccard=0.5165 | precision=0.7065 | recall=0.6603 | avg_prec=0.6870 | kappa=0.7156 | loss=0.0000 │ val_score=0.7671\n",
      "[08:26:01.767] Epoch  44/50 │ [train] lr=0.0005 | loss=0.3094 │ [val] acc=0.8171 | f1=0.7110 | roc_auc=0.9411 | hamming=0.0732 | jaccard=0.5738 | precision=0.7140 | recall=0.7400 | avg_prec=0.7303 | kappa=0.7296 | loss=0.0000 │ val_score=0.7939\n",
      "[08:26:21.954] Epoch  45/50 │ [train] lr=0.0005 | loss=0.3236 │ [val] acc=0.8482 | f1=0.7203 | roc_auc=0.9460 | hamming=0.0607 | jaccard=0.5885 | precision=0.7536 | recall=0.6987 | avg_prec=0.7295 | kappa=0.7679 | loss=0.0000 │ val_score=0.8114\n",
      "[08:26:42.427] Epoch  46/50 │ [train] lr=0.0005 | loss=0.3290 │ [val] acc=0.8288 | f1=0.6761 | roc_auc=0.9421 | hamming=0.0685 | jaccard=0.5456 | precision=0.6985 | recall=0.6736 | avg_prec=0.7198 | kappa=0.7415 | loss=0.0000 │ val_score=0.7866\n",
      "[08:27:02.517] Epoch  47/50 │ [train] lr=0.0005 | loss=0.3273 │ [val] acc=0.8327 | f1=0.6667 | roc_auc=0.9427 | hamming=0.0669 | jaccard=0.5381 | precision=0.7310 | recall=0.6369 | avg_prec=0.7402 | kappa=0.7413 | loss=0.0000 │ val_score=0.7836\n",
      "[08:27:04.005] Found inf or nan, current scale is: 16384.0, decrease to: 16384.0*0.5\n",
      "[08:27:23.799] Epoch  48/50 │ [train] lr=0.0005 | loss=0.3052 │ [val] acc=0.8268 | f1=0.7007 | roc_auc=0.9409 | hamming=0.0693 | jaccard=0.5661 | precision=0.6866 | recall=0.7235 | avg_prec=0.7281 | kappa=0.7428 | loss=0.0000 │ val_score=0.7948\n",
      "[08:27:49.125] Epoch  49/50 │ [train] lr=0.0005 | loss=0.3194 │ [val] acc=0.8230 | f1=0.6258 | roc_auc=0.9383 | hamming=0.0708 | jaccard=0.5043 | precision=0.7109 | recall=0.6143 | avg_prec=0.7195 | kappa=0.7269 | loss=0.0000 │ val_score=0.7637\n",
      "[08:28:09.828] Epoch  50/50 │ [train] lr=0.0005 | loss=0.3072 │ [val] acc=0.8463 | f1=0.7243 | roc_auc=0.9382 | hamming=0.0615 | jaccard=0.5909 | precision=0.7418 | recall=0.7189 | avg_prec=0.7091 | kappa=0.7677 | loss=0.0000 │ val_score=0.8101\n",
      "[08:28:23.044] Training time 0:17:46\n"
     ]
    }
   ],
   "source": [
    "!python main_finetune.py --data_path APTOS2019 --finetune RETFound_mae_meh --epochs 50 --warmup_epochs 10 --batch_size 16 --lr 5e-4 --layer_decay 0.65 --task RETFound_mae_meh-APTOS2019 --nb_classes 5"
   ]
  },
  {
   "cell_type": "markdown",
   "id": "181b5b78",
   "metadata": {},
   "source": [
    "## 运行 JSIEC 数据集实验"
   ]
  },
  {
   "cell_type": "code",
   "execution_count": 6,
   "id": "564e0853",
   "metadata": {},
   "outputs": [
    {
     "name": "stdout",
     "output_type": "stream",
     "text": [
      "[08:29:03.206] Instantiating VisionTransformer (for RETFound_mae) with args: {'embed_dim': 1024, 'depth': 24, 'num_heads': 16, 'mlp_ratio': 4.0, 'patch_size': 16, 'img_size': 224, 'in_chans': 3, 'qkv_bias': True, 'drop_rate': 0.0, 'attn_drop_rate': 0.0, 'drop_path_rate': 0.2, 'use_cls_token': True, 'global_pool': True, 'num_classes': 39, 'norm_layer': functools.partial(<class 'paddle.nn.layer.norm.LayerNorm'>, epsilon=1e-06)}\n",
      "W0615 08:29:03.415303 131145 gpu_resources.cc:119] Please NOTE: device: 0, GPU Compute Capability: 8.0, Driver API Version: 12.8, Runtime API Version: 12.6\n",
      "W0615 08:29:03.416323 131145 gpu_resources.cc:164] device: 0, cuDNN Version: 9.5.\n",
      "[08:29:42.682] Position interpolate pass\n",
      "[08:29:42.937] Warning: paddle.vision.transforms.RandAugment not found. Skipping.\n",
      "[08:29:43.002] Dataset 'train': Loaded 534 samples from JSIEC/train\n",
      "[08:29:43.024] Dataset 'val': Loaded 150 samples from JSIEC/val\n",
      "[08:29:43.036] Dataset 'test': Loaded 319 samples from JSIEC/test\n",
      "[08:29:43.043] Start training for 50 epochs\n",
      "[08:29:47.557] Found inf or nan, current scale is: 65536.0, decrease to: 65536.0*0.5\n",
      "[08:29:47.707] Found inf or nan, current scale is: 32768.0, decrease to: 32768.0*0.5\n",
      "[08:29:47.825] Found inf or nan, current scale is: 16384.0, decrease to: 16384.0*0.5\n",
      "[08:29:55.300] Epoch   1/50 │ [train] lr=0.0005 | loss=3.6920 │ [val] loss=2.9841 │ val_score=0.3295\n",
      "[08:30:08.408] Epoch   2/50 │ [train] lr=0.0005 | loss=2.7435 │ [val] loss=2.1950 │ val_score=0.4486\n",
      "[08:30:19.839] Epoch   3/50 │ [train] lr=0.0005 | loss=2.2028 │ [val] loss=1.7443 │ val_score=0.5408\n",
      "[08:30:31.268] Epoch   4/50 │ [train] lr=0.0005 | loss=1.8553 │ [val] loss=1.4287 │ val_score=0.6042\n",
      "[08:30:44.163] Epoch   5/50 │ [train] lr=0.0005 | loss=1.5389 │ [val] loss=1.3621 │ val_score=0.6251\n",
      "[08:30:55.976] Epoch   6/50 │ [train] lr=0.0005 | loss=1.3643 │ [val] loss=1.0565 │ val_score=0.7082\n",
      "[08:31:07.783] Epoch   7/50 │ [train] lr=0.0005 | loss=1.1788 │ [val] loss=0.8743 │ val_score=0.7680\n",
      "[08:31:20.516] Epoch   8/50 │ [train] lr=0.0005 | loss=1.0271 │ [val] loss=0.9627 │ val_score=0.7441\n",
      "[08:31:30.349] Epoch   9/50 │ [train] lr=0.0005 | loss=1.0192 │ [val] loss=1.0372 │ val_score=0.7399\n",
      "[08:31:40.212] Epoch  10/50 │ [train] lr=0.0005 | loss=0.9606 │ [val] loss=0.8230 │ val_score=0.7922\n",
      "[08:31:52.230] Epoch  11/50 │ [train] lr=0.0005 | loss=0.8739 │ [val] loss=0.7767 │ val_score=0.7891\n",
      "[08:32:02.288] Epoch  12/50 │ [train] lr=0.0005 | loss=0.8007 │ [val] loss=0.7287 │ val_score=0.8168\n",
      "[08:32:14.712] Epoch  13/50 │ [train] lr=0.0005 | loss=0.7391 │ [val] loss=0.7428 │ val_score=0.8058\n",
      "[08:32:24.527] Epoch  14/50 │ [train] lr=0.0005 | loss=0.6779 │ [val] loss=0.6015 │ val_score=0.8399\n",
      "[08:32:36.679] Epoch  15/50 │ [train] lr=0.0005 | loss=0.6512 │ [val] loss=0.7034 │ val_score=0.8095\n",
      "[08:32:46.694] Epoch  16/50 │ [train] lr=0.0005 | loss=0.6497 │ [val] loss=0.7125 │ val_score=0.8147\n",
      "[08:32:56.787] Epoch  17/50 │ [train] lr=0.0005 | loss=0.5951 │ [val] loss=0.7052 │ val_score=0.8262\n",
      "[08:33:06.477] Epoch  18/50 │ [train] lr=0.0005 | loss=0.5569 │ [val] loss=0.7258 │ val_score=0.8167\n",
      "[08:33:16.459] Epoch  19/50 │ [train] lr=0.0005 | loss=0.5047 │ [val] loss=0.7293 │ val_score=0.8053\n",
      "[08:33:26.826] Epoch  20/50 │ [train] lr=0.0005 | loss=0.5735 │ [val] loss=0.5744 │ val_score=0.8484\n",
      "[08:33:40.475] Epoch  21/50 │ [train] lr=0.0005 | loss=0.5234 │ [val] loss=0.7253 │ val_score=0.8409\n",
      "[08:33:50.901] Epoch  22/50 │ [train] lr=0.0005 | loss=0.5088 │ [val] loss=0.7405 │ val_score=0.8083\n",
      "[08:34:01.703] Epoch  23/50 │ [train] lr=0.0005 | loss=0.4463 │ [val] loss=0.7386 │ val_score=0.8434\n",
      "[08:34:12.097] Epoch  24/50 │ [train] lr=0.0005 | loss=0.4626 │ [val] loss=0.6779 │ val_score=0.8462\n",
      "[08:34:22.588] Epoch  25/50 │ [train] lr=0.0005 | loss=0.4303 │ [val] loss=0.6122 │ val_score=0.8645\n",
      "[08:34:35.570] Epoch  26/50 │ [train] lr=0.0005 | loss=0.4299 │ [val] loss=0.6629 │ val_score=0.8459\n",
      "[08:34:45.908] Epoch  27/50 │ [train] lr=0.0005 | loss=0.4799 │ [val] loss=0.6156 │ val_score=0.8387\n",
      "[08:34:56.550] Epoch  28/50 │ [train] lr=0.0005 | loss=0.3163 │ [val] loss=0.6870 │ val_score=0.8448\n",
      "[08:35:10.802] Epoch  29/50 │ [train] lr=0.0005 | loss=0.4032 │ [val] loss=0.6332 │ val_score=0.8638\n",
      "[08:35:21.103] Epoch  30/50 │ [train] lr=0.0005 | loss=0.3318 │ [val] loss=0.6662 │ val_score=0.8530\n",
      "[08:35:31.583] Epoch  31/50 │ [train] lr=0.0005 | loss=0.4075 │ [val] loss=0.5340 │ val_score=0.8718\n",
      "[08:35:44.112] Epoch  32/50 │ [train] lr=0.0005 | loss=0.3674 │ [val] loss=0.6925 │ val_score=0.8313\n",
      "[08:35:54.993] Epoch  33/50 │ [train] lr=0.0005 | loss=0.4427 │ [val] loss=0.6670 │ val_score=0.8299\n",
      "[08:36:05.398] Epoch  34/50 │ [train] lr=0.0005 | loss=0.3815 │ [val] loss=0.6077 │ val_score=0.8550\n",
      "[08:36:15.918] Epoch  35/50 │ [train] lr=0.0005 | loss=0.3340 │ [val] loss=0.5801 │ val_score=0.8563\n",
      "[08:36:26.387] Epoch  36/50 │ [train] lr=0.0005 | loss=0.2690 │ [val] loss=0.6502 │ val_score=0.8573\n",
      "[08:36:37.234] Epoch  37/50 │ [train] lr=0.0005 | loss=0.2714 │ [val] loss=0.7339 │ val_score=0.8345\n",
      "[08:36:48.135] Epoch  38/50 │ [train] lr=0.0005 | loss=0.3172 │ [val] loss=0.6322 │ val_score=0.8456\n",
      "[08:36:58.547] Epoch  39/50 │ [train] lr=0.0005 | loss=0.3456 │ [val] loss=0.5539 │ val_score=0.8521\n",
      "[08:37:08.913] Epoch  40/50 │ [train] lr=0.0005 | loss=0.2737 │ [val] loss=0.6003 │ val_score=0.8413\n",
      "[08:37:19.589] Epoch  41/50 │ [train] lr=0.0005 | loss=0.3107 │ [val] loss=0.5244 │ val_score=0.8781\n",
      "[08:37:32.846] Epoch  42/50 │ [train] lr=0.0005 | loss=0.3570 │ [val] loss=0.5416 │ val_score=0.8772\n",
      "[08:37:43.273] Epoch  43/50 │ [train] lr=0.0005 | loss=0.2587 │ [val] loss=0.6833 │ val_score=0.8529\n",
      "[08:37:53.525] Epoch  44/50 │ [train] lr=0.0005 | loss=0.2882 │ [val] loss=0.5818 │ val_score=0.8722\n",
      "[08:38:03.796] Epoch  45/50 │ [train] lr=0.0005 | loss=0.2991 │ [val] loss=0.7845 │ val_score=0.8479\n",
      "[08:38:14.490] Epoch  46/50 │ [train] lr=0.0005 | loss=0.3022 │ [val] loss=0.8503 │ val_score=0.8258\n",
      "[08:38:24.885] Epoch  47/50 │ [train] lr=0.0005 | loss=0.2759 │ [val] loss=0.6642 │ val_score=0.8563\n",
      "[08:38:35.315] Epoch  48/50 │ [train] lr=0.0005 | loss=0.2826 │ [val] loss=0.7251 │ val_score=0.8648\n",
      "[08:38:46.434] Epoch  49/50 │ [train] lr=0.0005 | loss=0.3263 │ [val] loss=0.7476 │ val_score=0.8602\n",
      "[08:38:59.175] Epoch  50/50 │ [train] lr=0.0005 | loss=0.3092 │ [val] loss=0.7665 │ val_score=0.8510\n",
      "[08:39:13.959] Training time 0:09:30\n"
     ]
    }
   ],
   "source": [
    "!python main_finetune.py --data_path JSIEC --finetune RETFound_mae_meh --epochs 50 --warmup_epochs 10 --batch_size 16 --lr 5e-4 --layer_decay 0.65 --task RETFound_mae_meh-JSIEC --nb_classes 39"
   ]
  }
 ],
 "metadata": {
  "kernelspec": {
   "display_name": "base",
   "language": "python",
   "name": "python3"
  },
  "language_info": {
   "codemirror_mode": {
    "name": "ipython",
    "version": 3
   },
   "file_extension": ".py",
   "mimetype": "text/x-python",
   "name": "python",
   "nbconvert_exporter": "python",
   "pygments_lexer": "ipython3",
   "version": "3.11.6"
  },
  "toc": {
   "base_numbering": 1,
   "nav_menu": {},
   "number_sections": false,
   "sideBar": true,
   "skip_h1_title": false,
   "title_cell": "Table of Contents",
   "title_sidebar": "Contents",
   "toc_cell": false,
   "toc_position": {},
   "toc_section_display": true,
   "toc_window_display": false
  },
  "varInspector": {
   "cols": {
    "lenName": 16,
    "lenType": 16,
    "lenVar": 40
   },
   "kernels_config": {
    "python": {
     "delete_cmd_postfix": "",
     "delete_cmd_prefix": "del ",
     "library": "var_list.py",
     "varRefreshCmd": "print(var_dic_list())"
    },
    "r": {
     "delete_cmd_postfix": ") ",
     "delete_cmd_prefix": "rm(",
     "library": "var_list.r",
     "varRefreshCmd": "cat(var_dic_list()) "
    }
   },
   "position": {
    "height": "451.85px",
    "left": "799.2px",
    "right": "20px",
    "top": "110px",
    "width": "350px"
   },
   "types_to_exclude": [
    "module",
    "function",
    "builtin_function_or_method",
    "instance",
    "_Feature"
   ],
   "window_display": false
  }
 },
 "nbformat": 4,
 "nbformat_minor": 5
}
